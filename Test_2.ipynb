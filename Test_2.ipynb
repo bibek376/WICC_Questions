{
 "cells": [
  {
   "cell_type": "code",
   "execution_count": 19,
   "id": "f750b103",
   "metadata": {},
   "outputs": [
    {
     "name": "stdout",
     "output_type": "stream",
     "text": [
      "1  5  9  13    \n",
      "\n",
      "2  6  10  14    \n",
      "\n",
      "3  7  11  15    \n",
      "\n",
      "4  8  12  16    \n",
      "\n"
     ]
    }
   ],
   "source": [
    "#Pattern\n",
    "constant_term=3\n",
    "for i in range(1,5):\n",
    "    for j in range(1,5):\n",
    "        print(4*j-constant_term,end='  ')\n",
    "    print(end='  ')\n",
    "    print(\"\\n\")\n",
    "    constant_term=constant_term-1"
   ]
  },
  {
   "cell_type": "code",
   "execution_count": 20,
   "id": "7e740fbf",
   "metadata": {},
   "outputs": [],
   "source": [
    "#First Missing Positive\n",
    "list1=[3,4,-1,1]\n",
    "count_num=[]\n",
    "count_num_freq=[]\n",
    "for i in range(min(list1),max(list1)+2):\n",
    "    count_num.append(i)\n",
    "    count_num_freq.append(list1.count(i))"
   ]
  },
  {
   "cell_type": "code",
   "execution_count": 21,
   "id": "1181ae47",
   "metadata": {},
   "outputs": [
    {
     "name": "stdout",
     "output_type": "stream",
     "text": [
      "2\n",
      "5\n"
     ]
    }
   ],
   "source": [
    "for j in range(len(count_num_freq)):\n",
    "    if (count_num_freq[j]==0) and (count_num[j]>0):\n",
    "        print(count_num[j])        "
   ]
  },
  {
   "cell_type": "code",
   "execution_count": 22,
   "id": "6fdf96fb",
   "metadata": {},
   "outputs": [
    {
     "name": "stdout",
     "output_type": "stream",
     "text": [
      "[-1, 0, 1, 2, 3, 4, 5]\n",
      "[1, 0, 1, 0, 1, 1, 0]\n"
     ]
    }
   ],
   "source": [
    "print(count_num)\n",
    "print(count_num_freq)"
   ]
  },
  {
   "cell_type": "code",
   "execution_count": 23,
   "id": "1cfe71e1",
   "metadata": {},
   "outputs": [
    {
     "name": "stdout",
     "output_type": "stream",
     "text": [
      "5050.0\n"
     ]
    }
   ],
   "source": [
    "#Easy Sum\n",
    "n=100\n",
    "print(n*(n+1)/2)"
   ]
  },
  {
   "cell_type": "code",
   "execution_count": 24,
   "id": "ae0e6883",
   "metadata": {},
   "outputs": [
    {
     "name": "stdout",
     "output_type": "stream",
     "text": [
      "5050\n"
     ]
    }
   ],
   "source": [
    "sum=0\n",
    "for i in range(1,101):\n",
    "    sum=sum+i\n",
    "print(sum)"
   ]
  },
  {
   "cell_type": "code",
   "execution_count": 14,
   "id": "8d616a22",
   "metadata": {},
   "outputs": [],
   "source": [
    "#Max_Gap\n",
    "def Max_Gap(nums):\n",
    "    if len(nums)<2:\n",
    "        return 0\n",
    "    else:\n",
    "        list1=[]\n",
    "        sorted_nums=sorted(nums)\n",
    "        for i in range(len(sorted_nums)):\n",
    "            j=i+1\n",
    "            if j<len(sorted_nums):\n",
    "                list1.append(sorted_nums[j]-sorted_nums[i])\n",
    "        return max(list1)\n",
    "                "
   ]
  },
  {
   "cell_type": "code",
   "execution_count": 15,
   "id": "910a0e14",
   "metadata": {},
   "outputs": [
    {
     "data": {
      "text/plain": [
       "[1, 2, 5, 7]"
      ]
     },
     "execution_count": 15,
     "metadata": {},
     "output_type": "execute_result"
    }
   ],
   "source": [
    "sorted([5,7,1,2])"
   ]
  },
  {
   "cell_type": "code",
   "execution_count": 16,
   "id": "889f2d18",
   "metadata": {},
   "outputs": [
    {
     "data": {
      "text/plain": [
       "3"
      ]
     },
     "execution_count": 16,
     "metadata": {},
     "output_type": "execute_result"
    }
   ],
   "source": [
    "Max_Sum([3,6,9,1])"
   ]
  },
  {
   "cell_type": "code",
   "execution_count": 3,
   "id": "05cb774b",
   "metadata": {},
   "outputs": [],
   "source": [
    "#Merge Two Sorted Array\n",
    "list1=[1,2,3]\n",
    "list2=[2,5,6]\n",
    "m=len(list1)\n",
    "n=len(list2)\n",
    "list3=[]\n",
    "i=0\n",
    "j=0\n",
    "k=0\n",
    "\n",
    "while(i<m and j<n):\n",
    "    if(list1[i]<list2[j]):\n",
    "        list3.append(list1[i])\n",
    "        i+=1\n",
    "        k+=1\n",
    "    else:\n",
    "        list3.append(list2[j])\n",
    "        j+=1\n",
    "        k+=1\n",
    "while(i<m):\n",
    "    list3.append(list1[i])\n",
    "    i+=1\n",
    "    k+=1\n",
    "while(j<n):\n",
    "    list3.append(list2[j])\n",
    "    j+=1\n",
    "    k+=1"
   ]
  },
  {
   "cell_type": "code",
   "execution_count": 4,
   "id": "37d21979",
   "metadata": {},
   "outputs": [
    {
     "data": {
      "text/plain": [
       "[1, 2, 2, 3, 5, 6]"
      ]
     },
     "execution_count": 4,
     "metadata": {},
     "output_type": "execute_result"
    }
   ],
   "source": [
    "list3"
   ]
  },
  {
   "cell_type": "code",
   "execution_count": 19,
   "id": "1b45e576",
   "metadata": {},
   "outputs": [
    {
     "name": "stdout",
     "output_type": "stream",
     "text": [
      "Congratulations\n"
     ]
    }
   ],
   "source": [
    "list1=['.pdf','.docs']\n",
    "x=\"Allowed_Filed_Extension.pdf\"\n",
    "for i in range(len(x)):\n",
    "    if \".\"==x[i]:\n",
    "        if x[i:] in list1:\n",
    "            print(\"Congratulations\")\n",
    "        else:\n",
    "            print(\"Extension is not valid\")"
   ]
  },
  {
   "cell_type": "code",
   "execution_count": 25,
   "id": "2075f317",
   "metadata": {},
   "outputs": [
    {
     "name": "stdout",
     "output_type": "stream",
     "text": [
      "Extension Is Valid\n"
     ]
    }
   ],
   "source": [
    "Valid_Extension=['.pdf','.docs']\n",
    "def Allowed_File_Extension(File_Name):\n",
    "    for i in range(len(File_Name)):\n",
    "        if \".\"==File_Name[i]:\n",
    "            if File_Name[i:] in Valid_Extension:\n",
    "                print(\"Extension Is Valid\")\n",
    "            else:\n",
    "                print(\"Extension Is Not Valid\")\n",
    "\n",
    "Allowed_File_Extension(\"Allowed_Filed_Extension.pdf\")"
   ]
  },
  {
   "cell_type": "code",
   "execution_count": null,
   "id": "fd208861",
   "metadata": {},
   "outputs": [],
   "source": []
  },
  {
   "cell_type": "code",
   "execution_count": null,
   "id": "a4374c50",
   "metadata": {},
   "outputs": [],
   "source": []
  },
  {
   "cell_type": "code",
   "execution_count": null,
   "id": "6c3c0f82",
   "metadata": {},
   "outputs": [],
   "source": []
  },
  {
   "cell_type": "code",
   "execution_count": null,
   "id": "d3917447",
   "metadata": {},
   "outputs": [],
   "source": []
  },
  {
   "cell_type": "code",
   "execution_count": null,
   "id": "53f7fbe6",
   "metadata": {},
   "outputs": [],
   "source": []
  },
  {
   "cell_type": "code",
   "execution_count": null,
   "id": "3fcbbef5",
   "metadata": {},
   "outputs": [],
   "source": []
  },
  {
   "cell_type": "code",
   "execution_count": null,
   "id": "6e4f0173",
   "metadata": {},
   "outputs": [],
   "source": []
  },
  {
   "cell_type": "code",
   "execution_count": null,
   "id": "57f21c1e",
   "metadata": {},
   "outputs": [],
   "source": []
  }
 ],
 "metadata": {
  "kernelspec": {
   "display_name": "Python 3 (ipykernel)",
   "language": "python",
   "name": "python3"
  },
  "language_info": {
   "codemirror_mode": {
    "name": "ipython",
    "version": 3
   },
   "file_extension": ".py",
   "mimetype": "text/x-python",
   "name": "python",
   "nbconvert_exporter": "python",
   "pygments_lexer": "ipython3",
   "version": "3.8.8"
  }
 },
 "nbformat": 4,
 "nbformat_minor": 5
}
