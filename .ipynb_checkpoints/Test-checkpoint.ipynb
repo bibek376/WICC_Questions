{
 "cells": [
  {
   "cell_type": "code",
   "execution_count": 1,
   "id": "5106f1af",
   "metadata": {},
   "outputs": [],
   "source": [
    "x=\"developer\""
   ]
  },
  {
   "cell_type": "code",
   "execution_count": 2,
   "id": "70c9ec74",
   "metadata": {},
   "outputs": [
    {
     "name": "stdout",
     "output_type": "stream",
     "text": [
      "{'p', 'r', 'd', 'v', 'e', 'o', 'l'}\n"
     ]
    }
   ],
   "source": [
    "print(set(x))"
   ]
  },
  {
   "cell_type": "code",
   "execution_count": 3,
   "id": "4401602b",
   "metadata": {},
   "outputs": [
    {
     "name": "stdout",
     "output_type": "stream",
     "text": [
      "9\n"
     ]
    }
   ],
   "source": [
    "print(len(x))"
   ]
  },
  {
   "cell_type": "code",
   "execution_count": 4,
   "id": "3816425d",
   "metadata": {},
   "outputs": [],
   "source": [
    "list1=[]\n",
    "for i in range(len(x)):\n",
    "    if(x[i] in list1) == False:\n",
    "        list1.append(x[i])"
   ]
  },
  {
   "cell_type": "code",
   "execution_count": 5,
   "id": "050463af",
   "metadata": {},
   "outputs": [
    {
     "name": "stdout",
     "output_type": "stream",
     "text": [
      "['d', 'e', 'v', 'l', 'o', 'p', 'r']\n"
     ]
    }
   ],
   "source": [
    "print(list1)"
   ]
  },
  {
   "cell_type": "code",
   "execution_count": 6,
   "id": "c599b97d",
   "metadata": {},
   "outputs": [
    {
     "name": "stdout",
     "output_type": "stream",
     "text": [
      "bibek\n"
     ]
    }
   ],
   "source": [
    "A=\"Bibek\"\n",
    "A=A.lower()\n",
    "print(A)"
   ]
  },
  {
   "cell_type": "code",
   "execution_count": 13,
   "id": "7fb3a636",
   "metadata": {},
   "outputs": [
    {
     "name": "stdout",
     "output_type": "stream",
     "text": [
      "4\n"
     ]
    }
   ],
   "source": [
    "input=[4,1,2,1,2]\n",
    "for i in range(len(input)):\n",
    "    count=0\n",
    "    for j in range(len(input)):\n",
    "        if input[i]==input[j]:\n",
    "            count=count+1\n",
    "    if count==1:\n",
    "        print(input[i])"
   ]
  },
  {
   "cell_type": "code",
   "execution_count": 8,
   "id": "f16f2eb1",
   "metadata": {},
   "outputs": [
    {
     "data": {
      "text/plain": [
       "1"
      ]
     },
     "execution_count": 8,
     "metadata": {},
     "output_type": "execute_result"
    }
   ],
   "source": [
    "5//3"
   ]
  },
  {
   "cell_type": "code",
   "execution_count": 9,
   "id": "d5729af4",
   "metadata": {},
   "outputs": [
    {
     "data": {
      "text/plain": [
       "2"
      ]
     },
     "execution_count": 9,
     "metadata": {},
     "output_type": "execute_result"
    }
   ],
   "source": [
    "8//3"
   ]
  },
  {
   "cell_type": "code",
   "execution_count": 10,
   "id": "d02a2083",
   "metadata": {},
   "outputs": [],
   "source": [
    "list1=[3,1,1,2,1,3,1,4,4,2,4]\n",
    "n=len(list1)//3\n",
    "list2=[]\n",
    "for i in range(len(list1)):\n",
    "    count=0\n",
    "    for j in range(len(list1)):\n",
    "        if list1[i]==list1[j]:\n",
    "            count=count+1\n",
    "    if(count>=n):\n",
    "        if (list1[i] in list2)==False:\n",
    "            list2.append(list1[i])\n",
    "            "
   ]
  },
  {
   "cell_type": "code",
   "execution_count": 11,
   "id": "2def8ccc",
   "metadata": {},
   "outputs": [
    {
     "data": {
      "text/plain": [
       "[1, 4]"
      ]
     },
     "execution_count": 11,
     "metadata": {},
     "output_type": "execute_result"
    }
   ],
   "source": [
    "list2"
   ]
  },
  {
   "cell_type": "code",
   "execution_count": 12,
   "id": "b22de1f3",
   "metadata": {},
   "outputs": [
    {
     "data": {
      "text/plain": [
       "3"
      ]
     },
     "execution_count": 12,
     "metadata": {},
     "output_type": "execute_result"
    }
   ],
   "source": [
    "n"
   ]
  },
  {
   "cell_type": "code",
   "execution_count": 14,
   "id": "2dd97da2",
   "metadata": {},
   "outputs": [],
   "source": [
    "checking_word=\"dad\"\n",
    "row_first=set(\"qwertyuiop\")\n",
    "row_second=set(\"asdfghjkl\")\n",
    "row_third=set(\"zxcvbnm\")\n",
    "\n",
    "key_value_dict=dict()\n",
    "\n",
    "\n",
    "for i in range(97,123):\n",
    "    belongs=0\n",
    "    if (chr(i) in row_first):\n",
    "        belongs=1\n",
    "    elif (chr(i) in row_second):\n",
    "        belongs=2\n",
    "    else:\n",
    "        belongs=3\n",
    "    key_value_dict[chr(i)]=belongs   "
   ]
  },
  {
   "cell_type": "code",
   "execution_count": 15,
   "id": "e9fd18ee",
   "metadata": {},
   "outputs": [
    {
     "name": "stdout",
     "output_type": "stream",
     "text": [
      "dad\n"
     ]
    }
   ],
   "source": [
    "final_set=set()\n",
    "for j in checking_word:\n",
    "    lower_value=j.lower()\n",
    "    for char in lower_value:\n",
    "        final_set.add(key_value_dict[char])\n",
    "if len(final_set)==1:\n",
    "    print(checking_word)\n",
    "    "
   ]
  },
  {
   "cell_type": "code",
   "execution_count": null,
   "id": "522cbe02",
   "metadata": {},
   "outputs": [],
   "source": []
  },
  {
   "cell_type": "code",
   "execution_count": 15,
   "id": "bd5a8565",
   "metadata": {},
   "outputs": [
    {
     "data": {
      "text/plain": [
       "2"
      ]
     },
     "execution_count": 15,
     "metadata": {},
     "output_type": "execute_result"
    }
   ],
   "source": [
    "key_value_dict['d']"
   ]
  },
  {
   "cell_type": "code",
   "execution_count": 16,
   "id": "f95642c9",
   "metadata": {},
   "outputs": [
    {
     "name": "stdout",
     "output_type": "stream",
     "text": [
      "z\n",
      "a\n"
     ]
    }
   ],
   "source": [
    "print(chr(122))\n",
    "print(chr(97))"
   ]
  },
  {
   "cell_type": "code",
   "execution_count": 17,
   "id": "f54e98b7",
   "metadata": {},
   "outputs": [
    {
     "name": "stdout",
     "output_type": "stream",
     "text": [
      "3\n"
     ]
    }
   ],
   "source": [
    "list1=[2,4,5,2,3,2]\n",
    "print(list1.count(2))"
   ]
  },
  {
   "cell_type": "code",
   "execution_count": 1,
   "id": "1f440758",
   "metadata": {},
   "outputs": [],
   "source": [
    "list1=[3,4,-1,1]\n",
    "count_num=[]\n",
    "count_num_freq=[]\n",
    "for i in range(min(list1),max(list1)+2):\n",
    "    count_num.append(i)\n",
    "    count_num_freq.append(list1.count(i))"
   ]
  },
  {
   "cell_type": "code",
   "execution_count": 2,
   "id": "2de8218f",
   "metadata": {},
   "outputs": [
    {
     "name": "stdout",
     "output_type": "stream",
     "text": [
      "2\n",
      "5\n"
     ]
    }
   ],
   "source": [
    "for j in range(len(count_num_freq)):\n",
    "    if (count_num_freq[j]==0) and (count_num[j]>0):\n",
    "        print(count_num[j])        "
   ]
  },
  {
   "cell_type": "code",
   "execution_count": 3,
   "id": "8ddf17c3",
   "metadata": {},
   "outputs": [
    {
     "name": "stdout",
     "output_type": "stream",
     "text": [
      "[-1, 0, 1, 2, 3, 4, 5]\n",
      "[1, 0, 1, 0, 1, 1, 0]\n"
     ]
    }
   ],
   "source": [
    "print(count_num)\n",
    "print(count_num_freq)"
   ]
  },
  {
   "cell_type": "code",
   "execution_count": null,
   "id": "167fb36c",
   "metadata": {},
   "outputs": [],
   "source": []
  },
  {
   "cell_type": "code",
   "execution_count": null,
   "id": "7f749b4c",
   "metadata": {},
   "outputs": [],
   "source": []
  },
  {
   "cell_type": "code",
   "execution_count": null,
   "id": "53313196",
   "metadata": {},
   "outputs": [],
   "source": []
  },
  {
   "cell_type": "code",
   "execution_count": null,
   "id": "c0e33596",
   "metadata": {},
   "outputs": [],
   "source": []
  },
  {
   "cell_type": "code",
   "execution_count": null,
   "id": "510c4430",
   "metadata": {},
   "outputs": [],
   "source": []
  },
  {
   "cell_type": "code",
   "execution_count": null,
   "id": "5ab56844",
   "metadata": {},
   "outputs": [],
   "source": []
  },
  {
   "cell_type": "code",
   "execution_count": null,
   "id": "230d68f6",
   "metadata": {},
   "outputs": [],
   "source": []
  },
  {
   "cell_type": "code",
   "execution_count": null,
   "id": "5a9ec2fe",
   "metadata": {},
   "outputs": [],
   "source": []
  },
  {
   "cell_type": "code",
   "execution_count": null,
   "id": "648c9ec3",
   "metadata": {},
   "outputs": [],
   "source": []
  },
  {
   "cell_type": "code",
   "execution_count": null,
   "id": "65c1dc0f",
   "metadata": {},
   "outputs": [],
   "source": []
  },
  {
   "cell_type": "code",
   "execution_count": null,
   "id": "43a34d61",
   "metadata": {},
   "outputs": [],
   "source": []
  }
 ],
 "metadata": {
  "kernelspec": {
   "display_name": "Python 3 (ipykernel)",
   "language": "python",
   "name": "python3"
  },
  "language_info": {
   "codemirror_mode": {
    "name": "ipython",
    "version": 3
   },
   "file_extension": ".py",
   "mimetype": "text/x-python",
   "name": "python",
   "nbconvert_exporter": "python",
   "pygments_lexer": "ipython3",
   "version": "3.8.8"
  }
 },
 "nbformat": 4,
 "nbformat_minor": 5
}
