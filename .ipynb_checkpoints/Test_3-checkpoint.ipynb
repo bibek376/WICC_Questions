{
 "cells": [
  {
   "cell_type": "code",
   "execution_count": 3,
   "id": "6d9956dd",
   "metadata": {},
   "outputs": [],
   "source": [
    "#Missing Number"
   ]
  },
  {
   "cell_type": "code",
   "execution_count": 26,
   "id": "4eb82269",
   "metadata": {},
   "outputs": [],
   "source": [
    "list1=[1,1,1,4]\n",
    "final_result=[]\n",
    "max=4\n",
    "count_num=[]\n",
    "count_num_freq=[]\n",
    "for i in range(1,max+1):\n",
    "    count_num.append(i)\n",
    "    count_num_freq.append(list1.count(i))"
   ]
  },
  {
   "cell_type": "code",
   "execution_count": 28,
   "id": "9d654ada",
   "metadata": {},
   "outputs": [
    {
     "name": "stdout",
     "output_type": "stream",
     "text": [
      "[3, 0, 0, 1]\n",
      "[1, 2, 3, 4]\n"
     ]
    }
   ],
   "source": [
    "print(count_num_freq)\n",
    "print(count_num)"
   ]
  },
  {
   "cell_type": "code",
   "execution_count": 29,
   "id": "7dace1c2",
   "metadata": {},
   "outputs": [
    {
     "data": {
      "text/plain": [
       "[1, 2, 3]"
      ]
     },
     "execution_count": 29,
     "metadata": {},
     "output_type": "execute_result"
    }
   ],
   "source": [
    "for j in range(len(list1)):\n",
    "    if count_num_freq[j]>1:\n",
    "        final_result.append(count_num[j])\n",
    "    if count_num_freq[j]==0:\n",
    "        final_result.append(count_num[j])\n",
    "final_result"
   ]
  },
  {
   "cell_type": "code",
   "execution_count": 30,
   "id": "52dbd73b",
   "metadata": {},
   "outputs": [],
   "source": [
    "#SQL Query\n",
    "CREATE TABLE Company(\n",
    "    Project_Name varchar(255),\n",
    "    Team_Size int,\n",
    "    Team_Lead varchar(255),\n",
    "    Income int\n",
    ");"
   ]
  },
  {
   "cell_type": "code",
   "execution_count": null,
   "id": "9b72572e",
   "metadata": {},
   "outputs": [],
   "source": [
    "INSERT INTO Company(\n",
    "    Project_Name,Team_Size,Team_Lead,Income\n",
    ")\n",
    "VALUES('Map Reduce',100,'Jeffery Dean',0);\n",
    "VALUES('Windows',1000,'Bill Gates',100500);\n",
    "VALUES('Snap Chat',3,'Even Spiegel',2050);"
   ]
  },
  {
   "cell_type": "code",
   "execution_count": null,
   "id": "1402551a",
   "metadata": {},
   "outputs": [],
   "source": [
    "SELECT Project_Name,Team_Lead,Income FROM Company;"
   ]
  },
  {
   "cell_type": "code",
   "execution_count": null,
   "id": "118c6e1d",
   "metadata": {},
   "outputs": [],
   "source": []
  },
  {
   "cell_type": "code",
   "execution_count": null,
   "id": "52fe511a",
   "metadata": {},
   "outputs": [],
   "source": []
  }
 ],
 "metadata": {
  "kernelspec": {
   "display_name": "Python 3 (ipykernel)",
   "language": "python",
   "name": "python3"
  },
  "language_info": {
   "codemirror_mode": {
    "name": "ipython",
    "version": 3
   },
   "file_extension": ".py",
   "mimetype": "text/x-python",
   "name": "python",
   "nbconvert_exporter": "python",
   "pygments_lexer": "ipython3",
   "version": "3.8.8"
  }
 },
 "nbformat": 4,
 "nbformat_minor": 5
}
